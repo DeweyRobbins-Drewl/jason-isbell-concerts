{
 "cells": [
  {
   "cell_type": "markdown",
   "metadata": {},
   "source": [
    "# Jason Isbell Concert Journey Analysis\n",
    "## 8 Shows • 154 Songs • 2022-2025"
   ]
  },
  {
   "cell_type": "code",
   "execution_count": null,
   "metadata": {},
   "outputs": [],
   "source": [
    "# Import libraries\n",
    "import pandas as pd\n",
    "import numpy as np\n",
    "import matplotlib.pyplot as plt\n",
    "import seaborn as sns\n",
    "from concert_analysis import JasonIsbellConcertData\n",
    "\n",
    "# Set style\n",
    "plt.style.use('seaborn-v0_8-darkgrid')\n",
    "sns.set_palette('husl')"
   ]
  },
  {
   "cell_type": "code",
   "execution_count": null,
   "metadata": {},
   "outputs": [],
   "source": [
    "# Load the data\n",
    "concerts = JasonIsbellConcertData('data/setlists.csv')\n",
    "df = concerts.df\n",
    "\n",
    "# Display basic stats\n",
    "stats = concerts.get_stats()\n",
    "print(f\"Total Shows: {stats['total_shows']}\")\n",
    "print(f\"Total Songs: {stats['total_songs']}\")\n",
    "print(f\"Unique Songs: {stats['unique_songs']}\")\n",
    "print(f\"Date Range: {stats['date_range']['first_show']} to {stats['date_range']['last_show']}\")"
   ]
  },
  {
   "cell_type": "markdown",
   "metadata": {},
   "source": [
    "## Most Played Songs"
   ]
  },
  {
   "cell_type": "code",
   "execution_count": null,
   "metadata": {},
   "outputs": [],
   "source": [
    "# Get top 10 songs\n",
    "top_songs = concerts.get_top_songs(10)\n",
    "\n",
    "# Create visualization\n",
    "fig, ax = plt.subplots(figsize=(12, 6))\n",
    "bars = ax.barh(top_songs['clean_song'], top_songs['play_count'])\n",
    "ax.set_xlabel('Number of Shows')\n",
    "ax.set_title('Top 10 Most Played Songs')\n",
    "ax.invert_yaxis()\n",
    "\n",
    "# Add percentage labels\n",
    "for i, (count, pct) in enumerate(zip(top_songs['play_count'], top_songs['percentage'])):\n",
    "    ax.text(count + 0.1, i, f'{pct}%', va='center')\n",
    "\n",
    "plt.tight_layout()\n",
    "plt.show()"
   ]
  },
  {
   "cell_type": "markdown",
   "metadata": {},
   "source": [
    "## Songs Per Show Timeline"
   ]
  },
  {
   "cell_type": "code",
   "execution_count": null,
   "metadata": {},
   "outputs": [],
   "source": [
    "# Songs per show\n",
    "songs_per_show = df.groupby('Date').size().reset_index(name='song_count')\n",
    "songs_per_show = songs_per_show.sort_values('Date')\n",
    "\n",
    "# Create timeline\n",
    "fig, ax = plt.subplots(figsize=(14, 6))\n",
    "ax.plot(songs_per_show['Date'], songs_per_show['song_count'], 'o-', markersize=10)\n",
    "ax.set_xlabel('Date')\n",
    "ax.set_ylabel('Number of Songs')\n",
    "ax.set_title('Songs Per Show Over Time')\n",
    "ax.grid(True, alpha=0.3)\n",
    "\n",
    "# Add venue labels\n",
    "for _, row in songs_per_show.iterrows():\n",
    "    venue = df[df['Date'] == row['Date']]['Venue'].iloc[0].split(' - ')[0]\n",
    "    ax.annotate(venue, (row['Date'], row['song_count']), \n",
    "                textcoords='offset points', xytext=(0,10), \n",
    "                ha='center', fontsize=8, rotation=45)\n",
    "\n",
    "plt.xticks(rotation=45)\n",
    "plt.tight_layout()\n",
    "plt.show()"
   ]
  },
  {
   "cell_type": "markdown",
   "metadata": {},
   "source": [
    "## Venue Analysis"
   ]
  },
  {
   "cell_type": "code",
   "execution_count": null,
   "metadata": {},
   "outputs": [],
   "source": [
    "# Venue statistics\n",
    "venue_stats = concerts.get_venue_stats()\n",
    "print(venue_stats)"
   ]
  },
  {
   "cell_type": "markdown",
   "metadata": {},
   "source": [
    "## Cover Songs Analysis"
   ]
  },
  {
   "cell_type": "code",
   "execution_count": null,
   "metadata": {},
   "outputs": [],
   "source": [
    "# Analyze covers\n",
    "covers = df[df['is_cover']]\n",
    "print(f\"Total cover performances: {len(covers)}\")\n",
    "print(f\"\\nUnique covers: {covers['clean_song'].nunique()}\")\n",
    "print(\"\\nMost performed covers:\")\n",
    "print(covers['clean_song'].value_counts().head(10))"
   ]
  },
  {
   "cell_type": "markdown",
   "metadata": {},
   "source": [
    "## Rare Songs (Played Only Once)"
   ]
  },
  {
   "cell_type": "code",
   "execution_count": null,
   "metadata": {},
   "outputs": [],
   "source": [
    "# Get rare songs\n",
    "rare_songs = concerts.get_rare_songs()\n",
    "print(f\"Songs played only once: {len(rare_songs)}\")\n",
    "print(\"\\nRare gems:\")\n",
    "for song in sorted(rare_songs)[:10]:\n",
    "    print(f\"  • {song}\")"
   ]
  },
  {
   "cell_type": "markdown",
   "metadata": {},
   "source": [
    "## Export for Further Analysis"
   ]
  },
  {
   "cell_type": "code",
   "execution_count": null,
   "metadata": {},
   "outputs": [],
   "source": [
    "# Export complete data\n",
    "import json\n",
    "\n",
    "viz_data = concerts.export_for_visualization()\n",
    "with open('concert_data.json', 'w') as f:\n",
    "    json.dump(viz_data, f, indent=2, default=str)\n",
    "\n",
    "print(\"Data exported to concert_data.json\")\n",
    "print(f\"\\nExported data includes:\")\n",
    "print(f\"  • {len(viz_data['shows'])} shows with complete setlists\")\n",
    "print(f\"  • Top {len(viz_data['song_frequency'])} songs with play counts\")\n",
    "print(f\"  • Venue statistics\")\n",
    "print(f\"  • {len(viz_data['rare_songs'])} rare songs\")"
   ]
  }
 ],
 "metadata": {
  "kernelspec": {
   "display_name": "Python 3",
   "language": "python",
   "name": "python3"
  },
  "language_info": {
   "codemirror_mode": {
    "name": "ipython",
    "version": 3
   },
   "file_extension": ".py",
   "mimetype": "text/x-python",
   "name": "python",
   "nbconvert_exporter": "python",
   "pygments_lexer": "ipython3",
   "version": "3.9.0"
  }
 },
 "nbformat": 4,
 "nbformat_minor": 4
}